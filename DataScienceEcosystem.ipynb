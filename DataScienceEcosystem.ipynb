{
 "cells": [
  {
   "cell_type": "markdown",
   "id": "b2907446-5b3d-4d46-accc-8670dfe0a3ac",
   "metadata": {},
   "source": [
    "# Data Science Tools and Ecosystem"
   ]
  },
  {
   "cell_type": "markdown",
   "id": "d991a119-3643-480a-9a6f-11d104357cf0",
   "metadata": {},
   "source": [
    "In this notebook, Data Science Tools and Ecosystem are summarized."
   ]
  },
  {
   "cell_type": "markdown",
   "id": "92bf4b38-a342-4a26-8231-3c74cf2a1242",
   "metadata": {},
   "source": [
    "**Objectives:**\n",
    "+ List popular languages for Data Science\n",
    "+ List popular libraries for Data Science\n",
    "+ Data science tools\n",
    "+ Basic operations "
   ]
  },
  {
   "attachments": {},
   "cell_type": "markdown",
   "id": "3c3b043d-1d47-45df-9322-89c9f952bccf",
   "metadata": {},
   "source": [
    "Some of the popular languages that Data Scientist use are:\n",
    "\n",
    "1. Python\n",
    "2. Java\n",
    "3. Java Script\n"
   ]
  },
  {
   "cell_type": "markdown",
   "id": "39e3891c-613d-4b18-a1dc-e1aa53c8b8f0",
   "metadata": {},
   "source": [
    "Some of the commonly used libraries by Data Scientist include:\n",
    "1. Pandas\n",
    "2. Numpy\n",
    "3. Scikit-learn"
   ]
  },
  {
   "cell_type": "markdown",
   "id": "1eab88d4-4049-4f5d-b168-be3914f123a9",
   "metadata": {},
   "source": [
    "| Data Science Tools | \n",
    "----------------------\n",
    "| Hadoop |\n",
    "| RStudio |\n",
    "| Jupyter Notebook |\n"
   ]
  },
  {
   "cell_type": "markdown",
   "id": "14894d82-3073-4ab3-9102-6fc1a607e3e9",
   "metadata": {},
   "source": [
    "### Below are a few examples of evaluating arithmetic expressions in Python"
   ]
  },
  {
   "cell_type": "markdown",
   "id": "9926ca19-1785-40cf-bfd9-e0179e8ea74b",
   "metadata": {},
   "source": [
    " This a simple arithmetic expression to mutiply then add integers"
   ]
  },
  {
   "cell_type": "code",
   "execution_count": 2,
   "id": "23dcee7b-51dc-4ffb-9845-83ae21e8340c",
   "metadata": {},
   "outputs": [
    {
     "data": {
      "text/plain": [
       "17"
      ]
     },
     "execution_count": 2,
     "metadata": {},
     "output_type": "execute_result"
    }
   ],
   "source": [
    "(3*4)+5"
   ]
  },
  {
   "cell_type": "markdown",
   "id": "0cfa948f-e6fa-4a91-8066-2b3ed5a5fa2f",
   "metadata": {},
   "source": [
    "This will convert 200 minutes to hours by diving by 60"
   ]
  },
  {
   "cell_type": "markdown",
   "id": "f1b56602-97c1-40ac-9063-a785b95f70c3",
   "metadata": {},
   "source": [
    "200/60"
   ]
  },
  {
   "attachments": {},
   "cell_type": "markdown",
   "id": "83828c49-85a3-41b2-9903-b71dc4a26ec8",
   "metadata": {},
   "source": [
    "## Author\n",
    "\n",
    "Juan José Patiño Osorio"
   ]
  },
  {
   "cell_type": "code",
   "execution_count": null,
   "id": "11d0475d-90d4-4357-b289-1a569584eda1",
   "metadata": {},
   "outputs": [],
   "source": []
  }
 ],
 "metadata": {
  "kernelspec": {
   "display_name": "Python 3 (ipykernel)",
   "language": "python",
   "name": "python3"
  },
  "language_info": {
   "codemirror_mode": {
    "name": "ipython",
    "version": 3
   },
   "file_extension": ".py",
   "mimetype": "text/x-python",
   "name": "python",
   "nbconvert_exporter": "python",
   "pygments_lexer": "ipython3",
   "version": "3.11.7"
  }
 },
 "nbformat": 4,
 "nbformat_minor": 5
}
